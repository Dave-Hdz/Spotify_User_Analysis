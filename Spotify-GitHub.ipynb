{
 "cells": [
  {
   "cell_type": "code",
   "execution_count": null,
   "metadata": {
    "scrolled": true
   },
   "outputs": [],
   "source": [
    "# !pip install spotipy"
   ]
  },
  {
   "cell_type": "code",
   "execution_count": null,
   "metadata": {},
   "outputs": [],
   "source": [
    "# !conda install -c conda-forge umap-learn"
   ]
  },
  {
   "cell_type": "code",
   "execution_count": null,
   "metadata": {},
   "outputs": [],
   "source": [
    "import spotipy\n",
    "from spotipy.oauth2 import SpotifyClientCredentials, SpotifyOAuth\n",
    "import os\n",
    "import re\n",
    "import pandas as pd\n",
    "import numpy as np\n",
    "import plotly.express as px\n",
    "from sklearn.preprocessing import MinMaxScaler\n",
    "import warnings\n",
    "warnings.filterwarnings(\"ignore\")\n",
    "import matplotlib.pyplot as plt\n",
    "from sklearn.cluster import KMeans\n",
    "from sklearn.preprocessing import StandardScaler\n",
    "from sklearn.decomposition import PCA\n",
    "from sklearn.manifold import TSNE\n",
    "from sklearn.manifold import MDS\n",
    "import umap.umap_ as umap\n",
    "import altair as alt"
   ]
  },
  {
   "cell_type": "code",
   "execution_count": null,
   "metadata": {},
   "outputs": [],
   "source": [
    "# np.__version__"
   ]
  },
  {
   "cell_type": "code",
   "execution_count": null,
   "metadata": {
    "scrolled": true
   },
   "outputs": [],
   "source": [
    "# pd.__version__"
   ]
  },
  {
   "cell_type": "code",
   "execution_count": null,
   "metadata": {},
   "outputs": [],
   "source": [
    "# Documentation:\n",
    "# Client credentials:\n",
    "#   https://developer.spotify.com/documentation/general/guides/app-settings/#register-your-app\n",
    "#\n",
    "# What each audio features means:\n",
    "#   https://developer.spotify.com/documentation/web-api/reference/#object-audiofeaturesobject\n",
    "#   https://medium.com/@FinchMF/praise-questions-and-critique-spotify-api-38e984a4174b\n",
    "# LUFS (Loudness):\n",
    "#   https://www.sweetwater.com/insync/what-is-lufs-and-why-should-i-care/\n",
    "# Scopes:\n",
    "#   https://developer.spotify.com/documentation/general/guides/scopes/#user-library-read\n",
    "\n",
    "\n",
    "# Examples:\n",
    "#   https://www.researchgate.net/profile/Scott-Wolf/publication/342854806_Just_the_Way_You_Are_Linking_Music_Listening_on_Spotify_and_Personality/links/5f0bc62a92851c52d62f8a3a/Just-the-Way-You-Are-Linking-Music-Listening-on-Spotify-and-Personality.pdf\n",
    "#   https://www.diva-portal.org/smash/get/diva2:1108465/FULLTEXT02\n",
    "#   https://ieeexplore.ieee.org/abstract/document/7987199\n",
    "#   https://www.math.vu.nl/~sbhulai/papers/paper-vandenhoven.pdf\n",
    "#   https://towardsdatascience.com/discovering-your-music-taste-with-python-and-spotify-api-b51b0d2744d\n",
    "#   https://towardsdatascience.com/a-music-taste-analysis-using-spotify-api-and-python-e52d186db5fc\n",
    "#   https://rareloot.medium.com/extracting-spotify-data-on-your-favourite-artist-via-python-d58bc92a4330\n",
    "\n",
    "# Cluster\n",
    "# https://martinfleischmann.net/clustergam-visualisation-of-cluster-analysis/"
   ]
  },
  {
   "cell_type": "code",
   "execution_count": null,
   "metadata": {},
   "outputs": [],
   "source": [
    "# Spotipy documentation to get own credentials https://spotipy.readthedocs.io/en/2.18.0/\n",
    "os.environ[\"SPOTIPY_CLIENT_ID\"] = #Need to get your own credentials from Spotify\n",
    "os.environ[\"SPOTIPY_CLIENT_SECRET\"] = #Need to get your own credentials from Spotify \n",
    "os.environ['SPOTIPY_REDIRECT_URI'] = \"http://localhost:8080\"   # Needed for user authorization"
   ]
  },
  {
   "cell_type": "code",
   "execution_count": null,
   "metadata": {},
   "outputs": [],
   "source": [
    "  # acousticness: 0.0 to 1.0,   1 is acoustic\n",
    "\n",
    "  # danceability: 0.0 to 1.0,   1 is most danceable\n",
    "\n",
    "  # energy: 0.0 to 1.0, perceptual measure of intensity and activity. 1.0 energetic tracks feel fast, loud and noisy. \n",
    "  #     Perceptual features contributing to this attribute include dynamic range, perceived loudness, timbre, onset rate, and general entropy.  \n",
    "  \n",
    "  # instrumentalness: 0.0 to 1.0, predicts whether a track contains no vocals (is instrumental).  1.0 is pure intrumental. Above 0.5 represent instrumental tracks.  \n",
    "  \n",
    "  # key:  Integers map to pitches using standard Pitch Class notation . E.g. 0 = C, 1 = C♯/D♭, 2 = D, and so on.    I still don't understand this :/\n",
    "\n",
    "  # liveness: 0.0 to 1.0, presence of audience in the recording. 0.8 or above strong likelihood that the track is live.\n",
    "\n",
    "  # loudness: -60.0 to 0.0db,  Negative number, closer to 0 is louder.\n",
    "\n",
    "  # mode: 0 or 1, Minor=0 Major=1, Major is happier\n",
    "\n",
    "  # speechiness: 0.0 to 1.0, detects presence of spoken words. 1.0 is talk show or audio book. \n",
    "  #     Values above 0.66 describe tracks that are probably made entirely of spoken words. \n",
    "  #     Values between 0.33 and 0.66 describe tracks that may contain both music and speech, either in sections or layered, including such cases as rap music. \n",
    "  #     Values below 0.33 most likely represent music and other non-speech-like tracks.\n",
    "\n",
    "  # tempo: BPM, Beats per minute \n",
    "  \n",
    "  # valence: 0.0 to 1.0, describing musical positiveness, the higher the more positive. \n",
    "  \n",
    "  # analysis_url: \n",
    "  # duration_ms: 238854,\n",
    "  # id: '1eT2CjXwFXNx6oY5ydvzKU',\n",
    "  # time_signature: 4,\n",
    "  # track_href: 'https://api.spotify.com/v1/tracks/1eT2CjXwFXNx6oY5ydvzKU',\n",
    "  # type: 'audio_features',\n",
    "  # uri: 'spotify:track:1eT2CjXwFXNx6oY5ydvzKU',"
   ]
  },
  {
   "cell_type": "code",
   "execution_count": null,
   "metadata": {},
   "outputs": [],
   "source": [
    "# Example code without user authorization\n",
    "urn = 'spotify:artist:3jOstUTkEu2JkjvRdBA5Gu'\n",
    "sp = spotipy.Spotify(client_credentials_manager=SpotifyClientCredentials())\n",
    "sp = spotipy.Spotify(auth_manager=SpotifyClientCredentials())\n",
    "\n",
    "artist = sp.artist(urn)\n",
    "\n",
    "user = sp.user('plamere')\n",
    "\n",
    "track = sp.track('2nLtzopw4rPReszdYBJU6h')\n",
    "\n",
    "audio_features = sp.audio_features('1eT2CjXwFXNx6oY5ydvzKU')"
   ]
  },
  {
   "cell_type": "code",
   "execution_count": null,
   "metadata": {},
   "outputs": [],
   "source": [
    "# Get access with user authorization\n",
    "scope = 'user-library-read user-follow-read'\n",
    "sp = spotipy.Spotify(auth_manager=SpotifyOAuth(scope=scope))"
   ]
  },
  {
   "cell_type": "code",
   "execution_count": null,
   "metadata": {
    "scrolled": true
   },
   "outputs": [],
   "source": [
    "# # Quick display of all saved songs\n",
    "# def show_tracks(results):\n",
    "#     for item in results['items']:\n",
    "#         track = item['track']\n",
    "#         print(\"%32.32s %s\" % (track['artists'][0]['name'], track['name']))\n",
    "        \n",
    "# results = sp.current_user_saved_tracks()\n",
    "# show_tracks(results)\n",
    "\n",
    "# while results['next']:\n",
    "#     results = sp.next(results)\n",
    "#     show_tracks(results)"
   ]
  },
  {
   "cell_type": "code",
   "execution_count": null,
   "metadata": {
    "scrolled": false
   },
   "outputs": [],
   "source": [
    "# Get all tracks and save them to lists to construct dataframe\n",
    "tracks = sp.current_user_saved_tracks()\n",
    "\n",
    "song = []\n",
    "artist = []\n",
    "uri = []\n",
    "\n",
    "#First pass of the saved tracks\n",
    "for i in tracks['items']:\n",
    "    song.append(i['track']['name'])\n",
    "    artist.append(i['track']['artists'][0]['name'])\n",
    "    uri_id = i['track']['uri']\n",
    "    uri.append(re.search('(^spotify:track:([^\\s]+))', uri_id).groups()[1])\n",
    "\n",
    "# Keep looking in tracks for the rest of the saved tracks, they are paginated\n",
    "while tracks['next']:\n",
    "    tracks = sp.next(tracks)\n",
    "    for i in tracks['items']:\n",
    "        song.append(i['track']['name'])\n",
    "        artist.append(i['track']['artists'][0]['name'])\n",
    "        uri_id = i['track']['uri']\n",
    "        uri.append(re.search('(^spotify:track:([^\\s]+))', uri_id).groups()[1])"
   ]
  },
  {
   "cell_type": "code",
   "execution_count": null,
   "metadata": {
    "scrolled": true
   },
   "outputs": [],
   "source": [
    "# Create a dataframe from info extracted above, song, artist and uri\n",
    "songs_df = pd.DataFrame(\n",
    "    {'song': song,\n",
    "     'artist': artist,\n",
    "     'uri': uri\n",
    "    })"
   ]
  },
  {
   "cell_type": "code",
   "execution_count": null,
   "metadata": {},
   "outputs": [],
   "source": [
    "songs_df"
   ]
  },
  {
   "cell_type": "code",
   "execution_count": null,
   "metadata": {
    "scrolled": true
   },
   "outputs": [],
   "source": [
    "pd.DataFrame(sp.audio_features(i)[0], index=[i,])"
   ]
  },
  {
   "cell_type": "code",
   "execution_count": null,
   "metadata": {},
   "outputs": [],
   "source": [
    "# Extract audio features from each song and create a dataframe\n",
    "appended_df = []\n",
    "for i in uri:\n",
    "    appended_df.append(pd.DataFrame(sp.audio_features(i)[0], index=[i,]))\n",
    "uri_df = pd.concat(appended_df)\n",
    "uri_df = uri_df.drop(['uri'], axis=1)\n",
    "uri_df = uri_df.reset_index()\n",
    "uri_df = uri_df.rename(columns={\"index\": \"uri\"})"
   ]
  },
  {
   "cell_type": "code",
   "execution_count": null,
   "metadata": {
    "scrolled": true
   },
   "outputs": [],
   "source": [
    "saved_songs_df = pd.merge(songs_df, uri_df, on=\"uri\")"
   ]
  },
  {
   "cell_type": "code",
   "execution_count": null,
   "metadata": {},
   "outputs": [],
   "source": [
    "saved_songs_df.head()"
   ]
  },
  {
   "cell_type": "code",
   "execution_count": null,
   "metadata": {},
   "outputs": [],
   "source": [
    "saved_songs_df.describe()"
   ]
  },
  {
   "cell_type": "code",
   "execution_count": null,
   "metadata": {},
   "outputs": [],
   "source": [
    "radar_df = saved_songs_df[['danceability', 'energy', 'loudness', 'speechiness', 'acousticness', \n",
    "                           'instrumentalness', 'liveness', 'valence']]"
   ]
  },
  {
   "cell_type": "code",
   "execution_count": null,
   "metadata": {},
   "outputs": [],
   "source": [
    "radar_df.describe()"
   ]
  },
  {
   "cell_type": "code",
   "execution_count": null,
   "metadata": {},
   "outputs": [],
   "source": [
    "min_max_scaler = MinMaxScaler()\n",
    "radar_df['loudness'] = min_max_scaler.fit_transform(radar_df['loudness'].to_numpy().reshape(-1, 1))\n",
    "radar_df.describe()"
   ]
  },
  {
   "cell_type": "code",
   "execution_count": null,
   "metadata": {},
   "outputs": [],
   "source": [
    "# convert column names into a list\n",
    "categories=list(radar_df.columns)\n",
    "# number of categories\n",
    "N=len(categories)\n",
    "\n",
    "# create a list with the average of all features\n",
    "value=list(radar_df.mean())"
   ]
  },
  {
   "cell_type": "code",
   "execution_count": null,
   "metadata": {
    "scrolled": false
   },
   "outputs": [],
   "source": [
    "fig = px.line_polar(radar_df, r=value, theta=categories, line_close=True, range_r=[0,1])\n",
    "fig.update_traces(fill='toself')\n",
    "fig.show()"
   ]
  },
  {
   "cell_type": "code",
   "execution_count": null,
   "metadata": {
    "scrolled": false
   },
   "outputs": [],
   "source": [
    "saved_songs_df.head()"
   ]
  },
  {
   "cell_type": "code",
   "execution_count": null,
   "metadata": {
    "scrolled": true
   },
   "outputs": [],
   "source": [
    "pd.plotting.scatter_matrix(saved_songs_df, alpha=0.2, figsize=(50,50))\n"
   ]
  },
  {
   "cell_type": "code",
   "execution_count": null,
   "metadata": {},
   "outputs": [],
   "source": [
    "# Columns of interest\n",
    "saved_songs_df[['uri', 'danceability','energy','key','loudness','mode','speechiness','acousticness',\n",
    "                'instrumentalness','liveness','valence','tempo', 'duration_ms','time_signature']].head()"
   ]
  },
  {
   "cell_type": "code",
   "execution_count": null,
   "metadata": {},
   "outputs": [],
   "source": [
    "# Creating the df with columns of interest\n",
    "feature_names = ['danceability','energy','key','loudness','mode','speechiness','acousticness',\n",
    "                'instrumentalness','liveness','valence','tempo', 'duration_ms','time_signature']\n",
    "df = saved_songs_df[feature_names]\n",
    "df.head()"
   ]
  },
  {
   "cell_type": "code",
   "execution_count": null,
   "metadata": {},
   "outputs": [],
   "source": [
    "# Not sure if I want to keep because new songs might have different scale.\n",
    "StdScaler = StandardScaler().fit(df).transform(df)"
   ]
  },
  {
   "cell_type": "code",
   "execution_count": null,
   "metadata": {},
   "outputs": [],
   "source": [
    "# Running PCA\n",
    "pca = PCA(n_components = 3, random_state = 0).fit(StdScaler)"
   ]
  },
  {
   "cell_type": "code",
   "execution_count": null,
   "metadata": {},
   "outputs": [],
   "source": [
    "# Calculating variance for each principal component\n",
    "singularValues = pca.singular_values_\n",
    "variance = np.square(singularValues)/(len(StdScaler)-1)\n",
    "variance"
   ]
  },
  {
   "cell_type": "code",
   "execution_count": null,
   "metadata": {},
   "outputs": [],
   "source": [
    "def plot_pca_heatmap(pca, feature_names):\n",
    "    pc_names = ['First PC', 'Second PC', 'Third PC']\n",
    "    fig, ax = plt.subplots(figsize=(len(feature_names), 3))\n",
    "    plt.imshow(pca.components_, interpolation = 'none', cmap = 'plasma')\n",
    "    feature_names=list(feature_names)\n",
    "    plt.xticks(np.arange(0, len(feature_names), 1) , feature_names[:], rotation = 75, fontsize=16)\n",
    "    plt.yticks(np.arange(0.0, 3, 1), pc_names, fontsize = 16)\n",
    "    plt.colorbar()\n",
    "\n",
    "\n",
    "\n",
    "plot_pca_heatmap(pca, feature_names)"
   ]
  },
  {
   "cell_type": "code",
   "execution_count": null,
   "metadata": {},
   "outputs": [],
   "source": [
    "def biplot(score, coeff, maxdim, pcax, pcay, labels=None):\n",
    "    pca1=pcax-1\n",
    "    pca2=pcay-1\n",
    "    xs = score[:,pca1]\n",
    "    ys = score[:,pca2]\n",
    "    n = min(coeff.shape[0], maxdim)\n",
    "    scalex = 2.0/(xs.max()- xs.min())\n",
    "    scaley = 2.0/(ys.max()- ys.min())\n",
    "    text_scale_factor = 1.5\n",
    "    plt.scatter(xs*scalex, ys*scaley, s=1)\n",
    "    for i in range(n):\n",
    "        plt.arrow(0, 0, coeff[i,pca1], coeff[i,pca2],color='r',alpha=0.5) \n",
    "        if labels is None:\n",
    "            plt.text(coeff[i,pca1]* text_scale_factor, coeff[i,pca2] * text_scale_factor, \"Var\"+str(i+1), color='g', ha='center', va='center')\n",
    "        else:\n",
    "            plt.text(coeff[i,pca1]* text_scale_factor, coeff[i,pca2], labels[i], color='g', ha='center', va='center')\n",
    "    plt.xlim(-1,1)\n",
    "    plt.ylim(-1,1)\n",
    "    plt.xlabel(\"PC{}\".format(pcax))\n",
    "    plt.ylabel(\"PC{}\".format(pcay))\n",
    "    plt.grid()\n",
    "\n",
    "plt.figure()\n",
    "plt.figure(figsize=(10, 10))\n",
    "\n",
    "# Uncomment this code to generate the biplot using your previous answers\n",
    "X_normalized = StdScaler\n",
    "X_pca = pca.transform(X_normalized)\n",
    "biplot(X_pca, np.transpose(pca.components_[0:2, :]), len(feature_names), 1, 2, labels=feature_names[:])"
   ]
  },
  {
   "cell_type": "code",
   "execution_count": null,
   "metadata": {},
   "outputs": [],
   "source": [
    "X_pca = PCA(n_components = 2).fit_transform(StdScaler)\n",
    "X_tsne = TSNE(n_components = 2, random_state = 42).fit_transform(StdScaler)\n",
    "X_mds = MDS(n_components = 2, random_state = 42).fit_transform(StdScaler)"
   ]
  },
  {
   "cell_type": "code",
   "execution_count": null,
   "metadata": {},
   "outputs": [],
   "source": [
    "fig, axes = plt.subplots(2, 2, figsize=(10, 8))\n",
    "\n",
    "\n",
    "axes[0, 0].scatter(StdScaler[:, 0], StdScaler[:, 1], s=10)\n",
    "axes[0, 1].scatter(X_pca[:, 0], X_pca[:, 1], s=10)\n",
    "axes[1, 0].scatter(X_tsne[:, 0], X_tsne[:, 1], s=10)\n",
    "axes[1, 1].scatter(X_mds[:, 0], X_mds[:, 1], s=10)\n",
    "\n",
    "axes[0, 0].set_title(\"Original\")\n",
    "axes[0, 1].set_title(\"PCA\")\n",
    "axes[1, 0].set_title(\"t-SNE\")\n",
    "axes[1, 1].set_title(\"MDS\")\n",
    "del fig, axes"
   ]
  },
  {
   "cell_type": "code",
   "execution_count": null,
   "metadata": {
    "scrolled": true
   },
   "outputs": [],
   "source": [
    "# get index from songs given X and Y coordinates on t-SNE\n",
    "songs_index = (np.where((X_tsne[:,0] <= -20) & (X_tsne[:,1] >= 15)))\n",
    "saved_songs_df.iloc[songs_index]"
   ]
  },
  {
   "cell_type": "code",
   "execution_count": null,
   "metadata": {},
   "outputs": [],
   "source": []
  },
  {
   "cell_type": "code",
   "execution_count": null,
   "metadata": {},
   "outputs": [],
   "source": []
  },
  {
   "cell_type": "code",
   "execution_count": null,
   "metadata": {
    "scrolled": false
   },
   "outputs": [],
   "source": []
  },
  {
   "cell_type": "code",
   "execution_count": null,
   "metadata": {
    "scrolled": true
   },
   "outputs": [],
   "source": [
    "kmeans = KMeans(n_clusters=6, random_state=0).fit(X_tsne)\n",
    "cluster = pd.DataFrame(X_tsne,columns=['x','y'])\n",
    "cluster['cluster'] = kmeans.labels_\n",
    "\n",
    "alt.Chart(cluster).mark_point().encode(\n",
    "    x='x',\n",
    "    y='y',\n",
    "    color='cluster:N'\n",
    ")\n",
    "\n",
    "#Kmeans might not be the best here due to different size in clusters"
   ]
  },
  {
   "cell_type": "code",
   "execution_count": null,
   "metadata": {},
   "outputs": [],
   "source": []
  },
  {
   "cell_type": "code",
   "execution_count": null,
   "metadata": {},
   "outputs": [],
   "source": []
  }
 ],
 "metadata": {
  "kernelspec": {
   "display_name": "Python 3",
   "language": "python",
   "name": "python3"
  },
  "language_info": {
   "codemirror_mode": {
    "name": "ipython",
    "version": 3
   },
   "file_extension": ".py",
   "mimetype": "text/x-python",
   "name": "python",
   "nbconvert_exporter": "python",
   "pygments_lexer": "ipython3",
   "version": "3.7.10"
  }
 },
 "nbformat": 4,
 "nbformat_minor": 2
}
